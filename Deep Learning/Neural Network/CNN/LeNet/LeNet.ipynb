{
 "cells": [
  {
   "attachments": {},
   "cell_type": "markdown",
   "metadata": {},
   "source": [
    "## <center>LeNet</center>"
   ]
  },
  {
   "attachments": {},
   "cell_type": "markdown",
   "metadata": {},
   "source": [
    "### Theory"
   ]
  },
  {
   "attachments": {},
   "cell_type": "markdown",
   "metadata": {},
   "source": [
    "LeNet is the most popular CNN architecture it is also the first CNN model which came in the year 1998. LeNet was originally developed to categorise handwritten digits from 0–9 of the MNIST Dataset"
   ]
  },
  {
   "attachments": {},
   "cell_type": "markdown",
   "metadata": {},
   "source": [
    "[<img src=\"./images/LeNet1.webp\" width=\"750\" />](./images/LeNet1.webp )"
   ]
  },
  {
   "attachments": {},
   "cell_type": "markdown",
   "metadata": {},
   "source": [
    "- The First Convolutional Layer is made up of 6 5 X 5 filters with a stride of 1. So the <b>image height and width decreased by 4.</b>\n",
    "- The Second Layer is a 2 X 2 average-pooling or \"sub-sampling\" layer with a stride of 2. So the <b>image height and width halfed.</b><br><br>\n",
    "- The Third Layer is similarly a Convolutional layer, with 16 ,5 X 5 filters and a stride of 1. So the <b>image height and width decreased by 4</b>\n",
    "- The Fourth Layer is another 2 X 2 average-pooling layer with a stride of 2. So the <b>image height and width halfed.</b><br><br>\n",
    "- The fifth layer is basically connecting the output of the fourth layer with a fully connected layer consisting of 120 nodes.<br><br>\n",
    "- The Sixth Layer is a similarly fully-connected layer with 84 nodes that derives from the outputs of the Fifth Layer's 120 nodes. <br><br>\n",
    "- The seventh layer consists of categorising the output of the previous layer into ten classifications based on the 10-digits it was trained to identify.\n",
    "<br>\n",
    "<br>\n",
    "- Input to this model is grayscale image\n",
    "- Number of parameters than can be trained is 60000"
   ]
  },
  {
   "attachments": {},
   "cell_type": "markdown",
   "metadata": {},
   "source": [
    "### Code Implementation"
   ]
  },
  {
   "cell_type": "code",
   "execution_count": 1,
   "metadata": {},
   "outputs": [],
   "source": [
    "from keras import Sequential\n",
    "from keras.layers.convolutional import Conv2D, MaxPooling2D\n",
    "from keras.layers.core import Activation, Flatten, Dense\n",
    "from keras import backend as K"
   ]
  },
  {
   "cell_type": "code",
   "execution_count": 2,
   "metadata": {},
   "outputs": [],
   "source": [
    "class LeNet:\n",
    "    # grayscale input\n",
    "    def build(numChannels, imageHeight, imageWidth, numClasses, weightsPath=None, activation=\"relu\"):\n",
    "        model = Sequential()\n",
    "        imageShape = (imageHeight, imageWidth, numChannels)\n",
    "        \n",
    "        # Layer 1\n",
    "        model.add(Conv2D(6, (5, 5), input_shape=imageShape))\n",
    "        model.add(Activation(activation=activation))\n",
    "        model.add(MaxPooling2D(pool_size=(2, 2), strides=(2, 2)))\n",
    "        \n",
    "        # Layer 2\n",
    "        model.add(Conv2D(16, (5, 5)))\n",
    "        model.add(Activation(activation=activation))\n",
    "        model.add(MaxPooling2D(pool_size=(2, 2), strides=(2, 2)))\n",
    "        \n",
    "        # Layer 3\n",
    "        model.add(Flatten())\n",
    "        \n",
    "        # Layer 4\n",
    "        model.add(Dense(120))\n",
    "        model.add(Activation(activation=activation))\n",
    "        \n",
    "        # Layer 5\n",
    "        model.add(Dense(84))\n",
    "        model.add(Activation(activation=activation))\n",
    "        \n",
    "        # Layer 6\n",
    "        model.add(Dense(numClasses))\n",
    "        model.add(Activation(activation=\"softmax\"))\n",
    "        \n",
    "        if weightsPath is not None:\n",
    "            model.load_weights(weightsPath)\n",
    "            \n",
    "        return model\n",
    "    "
   ]
  },
  {
   "cell_type": "code",
   "execution_count": 3,
   "metadata": {},
   "outputs": [],
   "source": [
    "from keras.datasets import mnist\n",
    "import matplotlib.pyplot as plt\n",
    "from keras.optimizers import SGD\n",
    "from keras.utils import np_utils\n",
    "\n",
    "%matplotlib inline"
   ]
  },
  {
   "cell_type": "code",
   "execution_count": 4,
   "metadata": {},
   "outputs": [],
   "source": [
    "(train_X, train_Y), (test_X, test_Y) = mnist.load_data()"
   ]
  },
  {
   "cell_type": "code",
   "execution_count": 5,
   "metadata": {},
   "outputs": [
    {
     "name": "stdout",
     "output_type": "stream",
     "text": [
      "(60000, 28, 28) (10000, 28, 28)\n"
     ]
    }
   ],
   "source": [
    "print(train_X.shape, test_X.shape)"
   ]
  },
  {
   "cell_type": "code",
   "execution_count": 6,
   "metadata": {},
   "outputs": [
    {
     "data": {
      "image/png": "[encoded data removed]",
      "text/plain": [
       "<Figure size 640x480 with 9 Axes>"
      ]
     },
     "metadata": {},
     "output_type": "display_data"
    }
   ],
   "source": [
    "for i in range(1, 10):\n",
    "    plt.subplot(3, 3, i)\n",
    "    plt.imshow(train_X[i], cmap=\"gray\")\n",
    "plt.show()"
   ]
  },
  {
   "cell_type": "code",
   "execution_count": 7,
   "metadata": {},
   "outputs": [
    {
     "name": "stdout",
     "output_type": "stream",
     "text": [
      "Epoch 1/20\n",
      "469/469 [==============================] - 8s 16ms/step - loss: 1.3704 - accuracy: 0.5740\n",
      "Epoch 2/20\n",
      "469/469 [==============================] - 8s 16ms/step - loss: 0.3265 - accuracy: 0.9013\n",
      "Epoch 3/20\n",
      "469/469 [==============================] - 8s 16ms/step - loss: 0.2273 - accuracy: 0.9313\n",
      "Epoch 4/20\n",
      "469/469 [==============================] - 8s 17ms/step - loss: 0.1803 - accuracy: 0.9453\n",
      "Epoch 5/20\n",
      "469/469 [==============================] - 8s 17ms/step - loss: 0.1506 - accuracy: 0.9549\n",
      "Epoch 6/20\n",
      "469/469 [==============================] - 8s 16ms/step - loss: 0.1313 - accuracy: 0.9606\n",
      "Epoch 7/20\n",
      "469/469 [==============================] - 8s 17ms/step - loss: 0.1178 - accuracy: 0.9647\n",
      "Epoch 8/20\n",
      "469/469 [==============================] - 8s 17ms/step - loss: 0.1057 - accuracy: 0.9682\n",
      "Epoch 9/20\n",
      "469/469 [==============================] - 8s 18ms/step - loss: 0.0982 - accuracy: 0.9706\n",
      "Epoch 10/20\n",
      "469/469 [==============================] - 8s 18ms/step - loss: 0.0918 - accuracy: 0.9722\n",
      "Epoch 11/20\n",
      "469/469 [==============================] - 8s 17ms/step - loss: 0.0863 - accuracy: 0.9741\n",
      "Epoch 12/20\n",
      "469/469 [==============================] - 8s 17ms/step - loss: 0.0813 - accuracy: 0.9751\n",
      "Epoch 13/20\n",
      "469/469 [==============================] - 8s 17ms/step - loss: 0.0773 - accuracy: 0.9767\n",
      "Epoch 14/20\n",
      "469/469 [==============================] - 8s 16ms/step - loss: 0.0742 - accuracy: 0.9770\n",
      "Epoch 15/20\n",
      "469/469 [==============================] - 8s 17ms/step - loss: 0.0711 - accuracy: 0.9789\n",
      "Epoch 16/20\n",
      "469/469 [==============================] - 8s 17ms/step - loss: 0.0686 - accuracy: 0.9792\n",
      "Epoch 17/20\n",
      "469/469 [==============================] - 8s 17ms/step - loss: 0.0658 - accuracy: 0.9799\n",
      "Epoch 18/20\n",
      "469/469 [==============================] - 8s 17ms/step - loss: 0.0631 - accuracy: 0.9808\n",
      "Epoch 19/20\n",
      "469/469 [==============================] - 8s 17ms/step - loss: 0.0612 - accuracy: 0.9811\n",
      "Epoch 20/20\n",
      "469/469 [==============================] - 8s 17ms/step - loss: 0.0594 - accuracy: 0.9821\n"
     ]
    },
    {
     "data": {
      "text/plain": [
       "<keras.callbacks.History at 0x1c92629e1a0>"
      ]
     },
     "execution_count": 7,
     "metadata": {},
     "output_type": "execute_result"
    }
   ],
   "source": [
    "train_X = train_X.reshape((train_X.shape[0], 28, 28, 1))\n",
    "test_X = test_X.reshape((test_X.shape[0], 28, 28, 1))\n",
    "\n",
    "train_X = train_X.astype(\"float32\") / 255.0\n",
    "test_X = test_X.astype(\"float32\") / 255.0\n",
    "\n",
    "train_Y = np_utils.to_categorical(train_Y, 10)\n",
    "test_Y = np_utils.to_categorical(test_Y, 10)\n",
    "\n",
    "\n",
    "optmzr = SGD(learning_rate=0.01)\n",
    "\n",
    "model = LeNet.build(numChannels=1, imageHeight=28, imageWidth=28, numClasses=10)\n",
    "model.compile(loss=\"categorical_crossentropy\", optimizer=optmzr, metrics=[\"accuracy\"])\n",
    "\n",
    "model.fit(train_X, train_Y, batch_size=128, epochs=20, verbose=1)"
   ]
  }
 ],
 "metadata": {
  "kernelspec": {
   "display_name": "Python 3",
   "language": "python",
   "name": "python3"
  },
  "language_info": {
   "codemirror_mode": {
    "name": "ipython",
    "version": 3
   },
   "file_extension": ".py",
   "mimetype": "text/x-python",
   "name": "python",
   "nbconvert_exporter": "python",
   "pygments_lexer": "ipython3",
   "version": "3.10.6 (tags/v3.10.6:9c7b4bd, Aug  1 2022, 21:53:49) [MSC v.1932 64 bit (AMD64)]"
  },
  "orig_nbformat": 4,
  "vscode": {
   "interpreter": {
    "hash": "26de051ba29f2982a8de78e945f0abaf191376122a1563185a90213a26c5da77"
   }
  }
 },
 "nbformat": 4,
 "nbformat_minor": 2
}
